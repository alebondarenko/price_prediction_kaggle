{
 "cells": [
  {
   "cell_type": "code",
   "execution_count": 1,
   "metadata": {
    "collapsed": false,
    "deletable": true,
    "editable": true
   },
   "outputs": [
    {
     "name": "stderr",
     "output_type": "stream",
     "text": [
      "/usr/lib64/python2.7/site-packages/sklearn/cross_validation.py:44: DeprecationWarning: This module was deprecated in version 0.18 in favor of the model_selection module into which all the refactored classes and functions are moved. Also note that the interface of the new CV iterators are different from that of this module. This module will be removed in 0.20.\n",
      "  \"This module will be removed in 0.20.\", DeprecationWarning)\n"
     ]
    }
   ],
   "source": [
    "import string\n",
    "import pandas as pd\n",
    "import re\n",
    "from sklearn.feature_extraction.text import CountVectorizer\n",
    "from sklearn.linear_model import LinearRegression\n",
    "from sklearn.cross_validation import cross_val_score\n",
    "\n",
    "def strip_punct(s):\n",
    "    sentences = []\n",
    "    exclude = set(string.punctuation)\n",
    "    exclude.add(']')\n",
    "    exclude.add('[')\n",
    "    exclude.add('\\xad')\n",
    "    exclude.add('\\n')\n",
    "    exclude.add('\\n1')\n",
    "    exclude.add('\\n2')\n",
    "    exclude.add('\\n3')\n",
    "    exclude.add('•')\n",
    "    exclude.add('«')\n",
    "    exclude.add('»')\n",
    "    for i in range(len(s)):\n",
    "        sentences.append(''.join(ch for ch in str(s[i]).lower() if ch not in exclude))\n",
    "    return sentences\n",
    "\n",
    "def vector_prep(l):\n",
    "    l1 = []\n",
    "    l2 = []\n",
    "\n",
    "    for i in range(len(l)):\n",
    "        l_str = ''\n",
    "        l1.append(re.split(r'[/&]', str(l[i])))\n",
    "        for x in range (len(l1[i])):\n",
    "            l_str += l1[i][x] + ' '\n",
    "        l2.append(' '.join(l_str.strip().split()))\n",
    "    return l2\n",
    "\n",
    "def feature(l1, l2, l3):\n",
    "    feature = []\n",
    "    for i in range(len(l1)):\n",
    "        feature.append(l1[i].lower() + ' ' + l2[i].lower() + ' ' + l3[i].lower())\n",
    "    return feature\n",
    "\n",
    "def cros_val(model, x_train_array, price_train, n_run):\n",
    "    print ('Cross-validation: {}'.format(cross_val_score(model, x_train_array, price_train, cv=n_run)))"
   ]
  },
  {
   "cell_type": "code",
   "execution_count": 3,
   "metadata": {
    "collapsed": false,
    "deletable": true,
    "editable": true
   },
   "outputs": [
    {
     "name": "stderr",
     "output_type": "stream",
     "text": [
      "/usr/lib/python2.7/site-packages/IPython/core/interactiveshell.py:2717: DtypeWarning: Columns (6) have mixed types. Specify dtype option on import or set low_memory=False.\n",
      "  interactivity=interactivity, compiler=compiler, result=result)\n"
     ]
    }
   ],
   "source": [
    "#1482535 rows x 8 columns\n",
    "df = pd.read_csv('data/train.tsv', sep='\\t')\n",
    "df = df.sample(frac=1).reset_index(drop=True)\n",
    "\n",
    "category_name_train = df['category_name'].iloc[14826:1482535].tolist()\n",
    "name_train = df['name'].iloc[14826:1482535].tolist()\n",
    "brand_train = df['brand_name'].iloc[14826:1482535].tolist()\n",
    "price_train = df['price'].iloc[14826:1482535].tolist()\n",
    "\n",
    "category_name_test = df['category_name'].iloc[0:14825].tolist()\n",
    "name_test = df['name'].iloc[0:14825].tolist()\n",
    "brand_test = df['brand_name'].iloc[0:14825].tolist()\n",
    "price_test = df['price'].iloc[0:14825].tolist()"
   ]
  },
  {
   "cell_type": "code",
   "execution_count": 4,
   "metadata": {
    "collapsed": true,
    "deletable": true,
    "editable": true
   },
   "outputs": [],
   "source": [
    "category_l_train = vector_prep(category_name_train)\n",
    "name_l_train = vector_prep(name_train)\n",
    "brand_l_train = vector_prep(brand_train)\n",
    "\n",
    "category_l_test = vector_prep(category_name_test)\n",
    "name_l_test = vector_prep(name_test)\n",
    "brand_l_test = vector_prep(brand_test)\n",
    "\n",
    "feature_train = feature(category_l_train, name_l_train, brand_l_train)\n",
    "feature_test = feature(category_l_test, name_l_test, brand_l_test)"
   ]
  },
  {
   "cell_type": "code",
   "execution_count": 5,
   "metadata": {
    "collapsed": true,
    "deletable": true,
    "editable": true
   },
   "outputs": [],
   "source": [
    "vectorizer = CountVectorizer()\n",
    "X = vectorizer.fit_transform(feature_train)\n",
    "#x_train_array = X.toarray()"
   ]
  },
  {
   "cell_type": "code",
   "execution_count": 6,
   "metadata": {
    "collapsed": true,
    "deletable": true,
    "editable": true
   },
   "outputs": [],
   "source": [
    "model = LinearRegression()\n",
    "model_l = model.fit(X, price_train)"
   ]
  },
  {
   "cell_type": "code",
   "execution_count": 8,
   "metadata": {
    "collapsed": true,
    "deletable": true,
    "editable": true
   },
   "outputs": [],
   "source": [
    "#corpus_test = ['small cat harness and leash Other Pet Supplies Others']\n",
    "newVec = CountVectorizer(vocabulary=vectorizer.vocabulary_)\n",
    "X_test = newVec.fit_transform(feature_test)\n",
    "prices_predicted = model_l.predict(X_test).tolist()"
   ]
  },
  {
   "cell_type": "code",
   "execution_count": 9,
   "metadata": {
    "collapsed": false,
    "deletable": true,
    "editable": true,
    "scrolled": true
   },
   "outputs": [
    {
     "name": "stdout",
     "output_type": "stream",
     "text": [
      "Cross-validation: [ 0.38858986  0.40132084  0.39405723  0.38794164  0.37951911]\n"
     ]
    }
   ],
   "source": [
    "n_run = 5 #number of runs\n",
    "cros_val(model_l, X, price_train, n_run)"
   ]
  },
  {
   "cell_type": "markdown",
   "metadata": {
    "deletable": true,
    "editable": true
   },
   "source": [
    "### SVR (support vector regression):"
   ]
  },
  {
   "cell_type": "code",
   "execution_count": null,
   "metadata": {
    "collapsed": true,
    "deletable": true,
    "editable": true
   },
   "outputs": [],
   "source": [
    "from sklearn.svm import SVR\n",
    "\n",
    "svr_poly  = SVR(kernel='poly', C=1e3, degree=2)\n",
    "svr_model = svr_poly.fit(X, price_train)"
   ]
  },
  {
   "cell_type": "code",
   "execution_count": null,
   "metadata": {
    "collapsed": true,
    "deletable": true,
    "editable": true
   },
   "outputs": [],
   "source": [
    "n_run = 5 #number of runs\n",
    "cros_val(svr_model, X, price_train, n_run)"
   ]
  },
  {
   "cell_type": "markdown",
   "metadata": {
    "deletable": true,
    "editable": true
   },
   "source": [
    "### Simple NN:"
   ]
  },
  {
   "cell_type": "code",
   "execution_count": null,
   "metadata": {
    "collapsed": true,
    "deletable": true,
    "editable": true
   },
   "outputs": [],
   "source": [
    "def larger_model():\n",
    "    # create model\n",
    "    model = Sequential()\n",
    "    model.add(Dense(13, input_dim=13, kernel_initializer='normal', activation='relu'))\n",
    "    model.add(Dense(6, kernel_initializer='normal', activation='relu'))\n",
    "    model.add(Dense(1, kernel_initializer='normal'))\n",
    "    # Compile model\n",
    "    model.compile(loss='mean_squared_error', optimizer='adam')\n",
    "    return model"
   ]
  },
  {
   "cell_type": "code",
   "execution_count": null,
   "metadata": {
    "collapsed": true,
    "deletable": true,
    "editable": true
   },
   "outputs": [],
   "source": []
  }
 ],
 "metadata": {
  "kernelspec": {
   "display_name": "Python 2",
   "language": "python",
   "name": "python2"
  },
  "language_info": {
   "codemirror_mode": {
    "name": "ipython",
    "version": 2
   },
   "file_extension": ".py",
   "mimetype": "text/x-python",
   "name": "python",
   "nbconvert_exporter": "python",
   "pygments_lexer": "ipython2",
   "version": "2.7.13"
  }
 },
 "nbformat": 4,
 "nbformat_minor": 2
}
