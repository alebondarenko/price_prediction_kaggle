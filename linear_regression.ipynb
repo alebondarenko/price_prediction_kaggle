{
 "cells": [
  {
   "cell_type": "code",
   "execution_count": 2,
   "metadata": {},
   "outputs": [],
   "source": [
    "import string\n",
    "import pandas as pd\n",
    "import re\n",
    "from sklearn.feature_extraction.text import CountVectorizer\n",
    "from sklearn.linear_model import LinearRegression\n",
    "from sklearn.cross_validation import cross_val_score\n",
    "\n",
    "def strip_punct(s):\n",
    "    sentences = []\n",
    "    exclude = set(string.punctuation)\n",
    "    exclude.add(']')\n",
    "    exclude.add('[')\n",
    "    exclude.add('\\xad')\n",
    "    exclude.add('\\n')\n",
    "    exclude.add('\\n1')\n",
    "    exclude.add('\\n2')\n",
    "    exclude.add('\\n3')\n",
    "    exclude.add('•')\n",
    "    exclude.add('«')\n",
    "    exclude.add('»')\n",
    "    for i in range(len(s)):\n",
    "        sentences.append(''.join(ch for ch in str(s[i]).lower() if ch not in exclude))\n",
    "    return sentences\n",
    "\n",
    "def vector_prep(l):\n",
    "    l1 = []\n",
    "    l2 = []\n",
    "\n",
    "    for i in range(len(l)):\n",
    "        l_str = ''\n",
    "        l1.append(re.split(r'[/&]', str(l[i])))\n",
    "        for x in range (len(l1[i])):\n",
    "            l_str += l1[i][x] + ' '\n",
    "        l2.append(' '.join(l_str.strip().split()))\n",
    "    return l2\n",
    "\n",
    "def feature(l1, l2, l3):\n",
    "    feature = []\n",
    "    for i in range(len(l1)):\n",
    "        feature.append(l1[i].lower() + ' ' + l2[i].lower() + ' ' + l3[i].lower())\n",
    "    return feature\n",
    "\n",
    "def cros_val(model, x_train_array, price_train, n_run):\n",
    "    print ('Cross-validation: {}'.format(cross_val_score(model, x_train_array, price_train, cv=n_run)))"
   ]
  },
  {
   "cell_type": "code",
   "execution_count": 3,
   "metadata": {},
   "outputs": [],
   "source": [
    "#1482535 rows x 8 columns\n",
    "df = pd.read_csv('data/train.tsv', sep='\\t')\n",
    "df = df.sample(frac=1).reset_index(drop=True)\n",
    "\n",
    "category_name_train = df['category_name'].iloc[14826:1482535].tolist()\n",
    "name_train = df['name'].iloc[14826:1482535].tolist()\n",
    "brand_train = df['brand_name'].iloc[14826:1482535].tolist()\n",
    "price_train = df['price'].iloc[14826:1482535].tolist()\n",
    "\n",
    "category_name_test = df['category_name'].iloc[0:14825].tolist()\n",
    "name_test = df['name'].iloc[0:14825].tolist()\n",
    "brand_test = df['brand_name'].iloc[0:14825].tolist()\n",
    "price_test = df['price'].iloc[0:14825].tolist()"
   ]
  },
  {
   "cell_type": "code",
   "execution_count": 3,
   "metadata": {},
   "outputs": [],
   "source": [
    "category_l_train = vector_prep(category_name_train)\n",
    "name_l_train = vector_prep(name_train)\n",
    "brand_l_train = vector_prep(brand_train)\n",
    "\n",
    "category_l_test = vector_prep(category_name_test)\n",
    "name_l_test = vector_prep(name_test)\n",
    "brand_l_test = vector_prep(brand_test)\n",
    "\n",
    "feature_train = feature(category_l_train, name_l_train, brand_l_train)\n",
    "feature_test = feature(category_l_test, name_l_test, brand_l_test)"
   ]
  },
  {
   "cell_type": "code",
   "execution_count": 4,
   "metadata": {},
   "outputs": [],
   "source": [
    "vectorizer = CountVectorizer()\n",
    "X = vectorizer.fit_transform(feature_train)\n",
    "#x_train_array = X.toarray()"
   ]
  },
  {
   "cell_type": "code",
   "execution_count": 7,
   "metadata": {},
   "outputs": [],
   "source": [
    "model = LinearRegression()\n",
    "model_l = model.fit(X, price_train)"
   ]
  },
  {
   "cell_type": "code",
   "execution_count": 8,
   "metadata": {},
   "outputs": [],
   "source": [
    "#corpus_test = ['small cat harness and leash Other Pet Supplies Others']\n",
    "newVec = CountVectorizer(vocabulary=vectorizer.vocabulary_)\n",
    "X_test = newVec.fit_transform(feature_test)\n",
    "prices_predicted = model_l.predict(X_test).tolist()"
   ]
  },
  {
   "cell_type": "code",
   "execution_count": 9,
   "metadata": {},
   "outputs": [
    {
     "name": "stdout",
     "output_type": "stream",
     "text": [
      "Cross-validation: [ 0.38858986  0.40132084  0.39405723  0.38794164  0.37951911]\n"
     ]
    }
   ],
   "source": [
    "n_run = 5 #number of runs\n",
    "cros_val(model_l, X, price_train, n_run)"
   ]
  },
  {
   "cell_type": "code",
   "execution_count": 10,
   "metadata": {},
   "outputs": [
    {
     "name": "stdout",
     "output_type": "stream",
     "text": [
      "10.0 12.28601982610922\n",
      "99.0 64.20870315482921\n",
      "14.0 26.396400955423047\n",
      "31.0 19.87622766069351\n",
      "10.0 18.694033108617912\n",
      "10.0 14.177766980207718\n",
      "10.0 -14.67930119632523\n",
      "50.0 40.45547452265314\n",
      "8.0 18.464385018294642\n",
      "10.0 14.664327432645285\n",
      "28.0 25.551276763145054\n",
      "8.0 0.885483098767768\n",
      "20.0 23.713586231479027\n",
      "115.0 49.26268433001228\n",
      "7.0 0.11320681439170244\n",
      "30.0 25.188863797877886\n",
      "15.0 12.753560499879278\n",
      "28.0 26.07305435837521\n",
      "26.0 23.66639373222716\n",
      "22.0 24.749277930624615\n",
      "15.0 33.66389910054818\n",
      "9.0 18.447411831928456\n",
      "125.0 90.6414428314835\n",
      "31.0 38.6074288094123\n",
      "26.0 62.39439869651858\n",
      "19.0 29.7983348907506\n",
      "14.0 22.66880642944505\n",
      "25.0 58.39567539328435\n",
      "11.0 19.543545532899962\n",
      "70.0 37.71096696790573\n",
      "6.0 21.917633990401367\n",
      "34.0 40.13882050304233\n",
      "29.0 25.26643860201601\n",
      "18.0 14.54273521957126\n",
      "19.0 40.64665945668773\n",
      "28.0 12.54484700848225\n",
      "30.0 41.83286327756144\n",
      "23.0 14.569084521922886\n",
      "9.0 2.769089464552067\n",
      "36.0 22.36106903594888\n",
      "26.0 22.899785658973208\n",
      "39.0 52.49439478291272\n",
      "8.0 17.002903541918208\n",
      "66.0 60.51190705354607\n",
      "15.0 27.634137423891282\n",
      "20.0 17.33343003858299\n",
      "11.0 17.094575159499364\n",
      "39.0 49.766605319974644\n",
      "17.0 38.4181711102857\n",
      "54.0 25.757742719134516\n",
      "5.0 49.496422111453484\n",
      "116.0 154.05514494285782\n",
      "4.0 1.447929770249118\n",
      "9.0 15.738352917130184\n",
      "8.0 17.149516788359925\n",
      "37.0 14.606432148520451\n",
      "15.0 31.30368422312634\n",
      "6.0 -3.1723068419590383\n",
      "10.0 18.981761686066015\n",
      "12.0 20.387597096971703\n",
      "13.0 35.74130052514501\n",
      "7.0 9.063646522287716\n",
      "28.0 17.25440539278329\n",
      "15.0 21.549390761616234\n",
      "9.0 -5.312581772445821\n",
      "8.0 16.307172191106645\n",
      "36.0 12.715230151551701\n",
      "9.0 13.939186804574073\n",
      "13.0 31.012506678700102\n",
      "26.0 32.97356877989035\n",
      "12.0 9.771849411477557\n",
      "24.0 14.823925236351556\n",
      "19.0 13.605333064832102\n",
      "8.0 7.765972994311301\n",
      "10.0 13.000392442382553\n",
      "7.0 5.792911199793494\n",
      "24.0 84.04369015201075\n",
      "4.0 19.333322056514234\n",
      "14.0 11.946009868034613\n",
      "24.0 18.00484575703892\n",
      "11.0 9.000790595256053\n",
      "15.0 31.438458343793595\n",
      "27.0 27.56106556763817\n",
      "30.0 17.680404600335365\n",
      "15.0 39.880251008116204\n",
      "12.0 22.625058868442412\n",
      "8.0 36.23536380368827\n",
      "10.0 19.0382584820649\n",
      "12.0 8.601908188207677\n",
      "50.0 18.18884229328636\n",
      "43.0 55.41602738355769\n",
      "19.0 34.26695464753945\n",
      "72.0 57.6500434901485\n",
      "13.0 8.717003622834365\n",
      "14.0 17.342151525620555\n",
      "8.0 4.6481460946294995\n",
      "4.0 -5.075899643755104\n",
      "66.0 36.45378825616942\n",
      "29.0 21.461410675586663\n",
      "46.0 38.325286147412726\n"
     ]
    }
   ],
   "source": [
    "for i in range(100):\n",
    "    print (price_test[i], prices_predicted[i])"
   ]
  }
 ],
 "metadata": {
  "kernelspec": {
   "display_name": "Python 3",
   "language": "python",
   "name": "python3"
  },
  "language_info": {
   "codemirror_mode": {
    "name": "ipython",
    "version": 3
   },
   "file_extension": ".py",
   "mimetype": "text/x-python",
   "name": "python",
   "nbconvert_exporter": "python",
   "pygments_lexer": "ipython3",
   "version": "3.5.2"
  }
 },
 "nbformat": 4,
 "nbformat_minor": 2
}
